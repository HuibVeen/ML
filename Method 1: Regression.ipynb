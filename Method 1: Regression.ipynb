{
 "cells": [
  {
   "metadata": {},
   "cell_type": "code",
   "outputs": [],
   "execution_count": null,
   "source": "#Huib zie jij dit",
   "id": "1d183ebcf4c408c6"
  },
  {
   "metadata": {},
   "cell_type": "code",
   "outputs": [],
   "execution_count": null,
   "source": [
    "import requests\n",
    "\n",
    "# Securely store your API key (DO NOT hardcode it in production)\n",
    "API_KEY = \"Dqj06kuBFgUFcD0gxSQ3Mr1FtP5lPNFJJJJr9DVyhFg\"\n",
    "\n",
    "# Base API URL\n",
    "BASE_URL = \"https://ev.caltech.edu/api/v1/sessions\""
   ],
   "id": "1ebde0fb52c60595"
  },
  {
   "metadata": {},
   "cell_type": "code",
   "outputs": [],
   "execution_count": null,
   "source": [
    "import requests\n",
    "\n",
    "# API Key (DO NOT hardcode in production, store securely)\n",
    "API_KEY = \"Dqj06kuBFgUFcD0gxSQ3Mr1FtP5lPNFJJJJr9DVyhFg\"\n",
    "\n",
    "# Base API URL\n",
    "BASE_URL = \"https://ev.caltech.edu/api/v1/sessions\"\n",
    "\n",
    "# Site IDs\n",
    "SITES = {\n",
    "    \"Caltech\": \"caltech\",\n",
    "    \"JPL\": \"jpl\"\n",
    "}\n",
    "\n",
    "# Headers for authentication (if required)\n",
    "HEADERS = {\n",
    "    \"Authorization\": f\"Bearer {API_KEY}\",\n",
    "    \"Content-Type\": \"application/json\"\n",
    "}\n"
   ],
   "id": "7468996b096a20e"
  },
  {
   "metadata": {
    "jupyter": {
     "is_executing": true
    }
   },
   "cell_type": "code",
   "source": [
    "def get_sessions(site_id):\n",
    "    url = f\"{BASE_URL}/{site_id}\"  # Non-time-series endpoint\n",
    "    \n",
    "    response = requests.get(url, headers=HEADERS)\n",
    "    \n",
    "    if response.status_code == 200:\n",
    "        return response.json()  # Convert response to JSON\n",
    "    else:\n",
    "        print(f\"Error {response.status_code}: {response.text}\")\n",
    "        return None\n",
    "\n",
    "# Example: Fetch sessions for Caltech\n",
    "caltech_data = get_sessions(SITES[\"Caltech\"])\n",
    "if caltech_data:\n",
    "    print(\"Caltech Sessions:\", caltech_data)\n"
   ],
   "id": "67cc901c1a7ada0e",
   "outputs": [],
   "execution_count": null
  },
  {
   "metadata": {
    "jupyter": {
     "is_executing": true
    }
   },
   "cell_type": "code",
   "source": [
    "def get_time_series_sessions(site_id):\n",
    "    url = f\"{BASE_URL}/{site_id}/ts\"  # Time-series endpoint\n",
    "    \n",
    "    response = requests.get(url, headers=HEADERS)\n",
    "    \n",
    "    if response.status_code == 200:\n",
    "        return response.json()\n",
    "    else:\n",
    "        print(f\"Error {response.status_code}: {response.text}\")\n",
    "        return None\n",
    "\n",
    "# Example: Fetch time-series data for JPL\n",
    "jpl_time_series = get_time_series_sessions(SITES[\"JPL\"])\n",
    "if jpl_time_series:\n",
    "    print(\"JPL Time-Series Data:\", jpl_time_series)\n"
   ],
   "id": "8bfa0a6d0d8a8c4e",
   "outputs": [],
   "execution_count": null
  },
  {
   "metadata": {
    "jupyter": {
     "is_executing": true
    }
   },
   "cell_type": "code",
   "source": [
    "def get_filtered_sessions(site_id, filter_condition):\n",
    "    url = f\"{BASE_URL}/{site_id}?where={filter_condition}&pretty\"\n",
    "    \n",
    "    response = requests.get(url, headers=HEADERS)\n",
    "    \n",
    "    if response.status_code == 200:\n",
    "        return response.json()\n",
    "    else:\n",
    "        print(f\"Error {response.status_code}: {response.text}\")\n",
    "        return None\n",
    "\n",
    "# Example: Get sessions with more than 10 kWh delivered at Caltech\n",
    "filter_condition = \"kWhDelivered>=10\"\n",
    "filtered_caltech = get_filtered_sessions(SITES[\"Caltech\"], filter_condition)\n",
    "\n",
    "if filtered_caltech:\n",
    "    print(\"Filtered Caltech Data:\", filtered_caltech)\n"
   ],
   "id": "cc9fa9a7586ad05c",
   "outputs": [],
   "execution_count": null
  },
  {
   "metadata": {
    "jupyter": {
     "is_executing": true
    }
   },
   "cell_type": "code",
   "source": [
    "def get_filtered_sessions(site_id, filter_condition):\n",
    "    url = f\"{BASE_URL}/{site_id}?where={filter_condition}&pretty\"\n",
    "    \n",
    "    response = requests.get(url, headers=HEADERS)\n",
    "    \n",
    "    if response.status_code == 200:\n",
    "        return response.json()\n",
    "    else:\n",
    "        print(f\"Error {response.status_code}: {response.text}\")\n",
    "        return None\n",
    "\n",
    "# Example: Get sessions with more than 10 kWh delivered at Caltech\n",
    "filter_condition = \"kWhDelivered>=10\"\n",
    "filtered_caltech = get_filtered_sessions(SITES[\"Caltech\"], filter_condition)\n",
    "\n",
    "if filtered_caltech:\n",
    "    print(\"Filtered Caltech Data:\", filtered_caltech)\n"
   ],
   "id": "e30b36655df7dd90",
   "outputs": [],
   "execution_count": null
  },
  {
   "metadata": {
    "jupyter": {
     "is_executing": true
    }
   },
   "cell_type": "code",
   "source": [
    "def get_sorted_sessions(site_id, sort_by):\n",
    "    url = f\"{BASE_URL}/{site_id}?sort={sort_by}&pretty\"\n",
    "    \n",
    "    response = requests.get(url, headers=HEADERS)\n",
    "\n",
    "    if response.status_code == 200:\n",
    "        return response.json()\n",
    "    else:\n",
    "        print(f\"Error {response.status_code}: {response.text}\")\n",
    "        return None\n",
    "\n",
    "# Example: Sort by connection time (descending) for JPL\n",
    "sorted_jpl = get_sorted_sessions(SITES[\"JPL\"], \"connectionTime\")\n",
    "\n",
    "if sorted_jpl:\n",
    "    print(\"Sorted JPL Data:\", sorted_jpl)\n"
   ],
   "id": "14933d0a72d0d4c",
   "outputs": [],
   "execution_count": null
  },
  {
   "metadata": {
    "jupyter": {
     "is_executing": true
    }
   },
   "cell_type": "code",
   "source": [
    "def get_all_sessions(site_id):\n",
    "    all_data = []\n",
    "    url = f\"{BASE_URL}/{site_id}?pretty\"\n",
    "\n",
    "    while url:\n",
    "        response = requests.get(url, headers=HEADERS)\n",
    "\n",
    "        if response.status_code == 200:\n",
    "            data = response.json()\n",
    "            all_data.extend(data.get(\"_items\", []))  # Extract session items\n",
    "\n",
    "            # Check for \"next\" page link\n",
    "            next_link = data.get(\"_links\", {}).get(\"next\", {}).get(\"href\")\n",
    "            if next_link:\n",
    "                url = f\"https://ev.caltech.edu/api/v1/{next_link}\"\n",
    "            else:\n",
    "                url = None  # Stop when no more pages\n",
    "        else:\n",
    "            print(f\"Error {response.status_code}: {response.text}\")\n",
    "            break\n",
    "\n",
    "    return all_data\n",
    "\n",
    "# Example: Fetch all sessions for Caltech\n",
    "all_caltech_sessions = get_all_sessions(SITES[\"Caltech\"])\n",
    "\n",
    "if all_caltech_sessions:\n",
    "    print(f\"Total Sessions Retrieved from Caltech: {len(all_caltech_sessions)}\")\n"
   ],
   "id": "4c818cf3d1d36472",
   "outputs": [],
   "execution_count": null
  },
  {
   "metadata": {
    "jupyter": {
     "is_executing": true
    }
   },
   "cell_type": "code",
   "source": "",
   "id": "d78b981f6d5531ed",
   "outputs": [],
   "execution_count": null
  }
 ],
 "metadata": {
  "kernelspec": {
   "display_name": "Python 3",
   "language": "python",
   "name": "python3"
  },
  "language_info": {
   "codemirror_mode": {
    "name": "ipython",
    "version": 2
   },
   "file_extension": ".py",
   "mimetype": "text/x-python",
   "name": "python",
   "nbconvert_exporter": "python",
   "pygments_lexer": "ipython2",
   "version": "2.7.6"
  }
 },
 "nbformat": 4,
 "nbformat_minor": 5
}
